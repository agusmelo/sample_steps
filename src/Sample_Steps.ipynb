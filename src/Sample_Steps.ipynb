{
 "cells": [
  {
   "cell_type": "code",
   "execution_count": 3,
   "metadata": {},
   "outputs": [],
   "source": [
    "# Step 0. Load libraries and modules\n",
    "import pandas as pd\n",
    "import numpy as np\n",
    "import matplotlib.pyplot as plt\n",
    "import plotly.express as px\n",
    "import statsmodels.formula.api as smf\n",
    "from sklearn.linear_model import LinearRegression\n",
    "from sklearn.preprocessing import MinMaxScaler\n",
    "from sklearn.model_selection import train_test_split\n",
    "from sklearn.metrics import mean_squared_error, r2_score"
   ]
  },
  {
   "cell_type": "code",
   "execution_count": 6,
   "metadata": {},
   "outputs": [],
   "source": [
    "# Step 1. Load the dataset\n",
    "# Credits:  California Cooperative Oceanic Fisheries Investigations\n",
    "# URL: https://www.kaggle.com/datasets/sohier/calcofi?select=bottle.csv\n",
    "# Drescription: The CalCOFI data set represents the longest (1949-present) \n",
    "# and most complete (more than 50,000 sampling stations) time series of \n",
    "# oceanographic and larval fish data in the world. It includes abundance \n",
    "# data on the larvae of over 250 species of fish; larval length frequency \n",
    "# data and egg abundance data on key commercial species; and oceanographic \n",
    "# and plankton data. The physical, chemical, and biological data collected \n",
    "# at regular time and space intervals quickly became valuable for \n",
    "# documenting climatic cycles in the California Current and a range of \n",
    "# biological responses to them. \n",
    "df_raw = pd.read_csv('../data/raw/calcofi_reduced.csv',index_col=0)"
   ]
  },
  {
   "cell_type": "code",
   "execution_count": 7,
   "metadata": {},
   "outputs": [
    {
     "name": "stdout",
     "output_type": "stream",
     "text": [
      "<class 'pandas.core.frame.DataFrame'>\n",
      "Int64Index: 300 entries, 0 to 299\n",
      "Data columns (total 2 columns):\n",
      " #   Column  Non-Null Count  Dtype  \n",
      "---  ------  --------------  -----  \n",
      " 0   Salnty  300 non-null    float64\n",
      " 1   T_degC  300 non-null    float64\n",
      "dtypes: float64(2)\n",
      "memory usage: 7.0 KB\n"
     ]
    }
   ],
   "source": [
    "# 1.1 Get basic info\n",
    "df_raw.info()"
   ]
  },
  {
   "cell_type": "code",
   "execution_count": null,
   "metadata": {},
   "outputs": [],
   "source": [
    "# 1.2 Take a sample"
   ]
  },
  {
   "cell_type": "code",
   "execution_count": null,
   "metadata": {},
   "outputs": [],
   "source": [
    "# 1.3 Transform if needed\n",
    "# - variables categoricas o variables fechas\n",
    "#"
   ]
  },
  {
   "cell_type": "code",
   "execution_count": 9,
   "metadata": {},
   "outputs": [],
   "source": [
    "# Step 2. Make a basic EDA\n",
    "df = df_raw.copy()"
   ]
  },
  {
   "cell_type": "code",
   "execution_count": 12,
   "metadata": {},
   "outputs": [],
   "source": [
    "# 2.1 Split the dataset so to avoid bias\n",
    "X = df[\"Salnty\"]\n",
    "y = df[\"T_degC\"]\n",
    "X_train,X_test,y_train,y_test = train_test_split(X,y,random_state=40, test_size=0.25)\n",
    "# El EDA se hace despues del split sobre X_train y y_train"
   ]
  },
  {
   "cell_type": "code",
   "execution_count": 15,
   "metadata": {},
   "outputs": [],
   "source": [
    "# 2.2 Join the train sets to ease insights\n",
    "df_train =pd.DataFrame({'Salinity': X_train,'Temp':y_train})"
   ]
  },
  {
   "cell_type": "code",
   "execution_count": 16,
   "metadata": {},
   "outputs": [
    {
     "name": "stdout",
     "output_type": "stream",
     "text": [
      "<class 'pandas.core.frame.DataFrame'>\n",
      "Int64Index: 225 entries, 243 to 219\n",
      "Data columns (total 2 columns):\n",
      " #   Column    Non-Null Count  Dtype  \n",
      "---  ------    --------------  -----  \n",
      " 0   Salinity  225 non-null    float64\n",
      " 1   Temp      225 non-null    float64\n",
      "dtypes: float64(2)\n",
      "memory usage: 5.3 KB\n"
     ]
    }
   ],
   "source": [
    "# 2.3 Get basic info\n",
    "df_train.info()"
   ]
  },
  {
   "cell_type": "code",
   "execution_count": 19,
   "metadata": {},
   "outputs": [
    {
     "data": {
      "text/html": [
       "<div>\n",
       "<style scoped>\n",
       "    .dataframe tbody tr th:only-of-type {\n",
       "        vertical-align: middle;\n",
       "    }\n",
       "\n",
       "    .dataframe tbody tr th {\n",
       "        vertical-align: top;\n",
       "    }\n",
       "\n",
       "    .dataframe thead th {\n",
       "        text-align: right;\n",
       "    }\n",
       "</style>\n",
       "<table border=\"1\" class=\"dataframe\">\n",
       "  <thead>\n",
       "    <tr style=\"text-align: right;\">\n",
       "      <th></th>\n",
       "      <th>Salinity</th>\n",
       "      <th>Temp</th>\n",
       "    </tr>\n",
       "  </thead>\n",
       "  <tbody>\n",
       "    <tr>\n",
       "      <th>229</th>\n",
       "      <td>33.957</td>\n",
       "      <td>5.95</td>\n",
       "    </tr>\n",
       "    <tr>\n",
       "      <th>235</th>\n",
       "      <td>34.180</td>\n",
       "      <td>4.89</td>\n",
       "    </tr>\n",
       "    <tr>\n",
       "      <th>116</th>\n",
       "      <td>32.740</td>\n",
       "      <td>10.47</td>\n",
       "    </tr>\n",
       "    <tr>\n",
       "      <th>26</th>\n",
       "      <td>33.800</td>\n",
       "      <td>5.12</td>\n",
       "    </tr>\n",
       "    <tr>\n",
       "      <th>76</th>\n",
       "      <td>34.420</td>\n",
       "      <td>2.78</td>\n",
       "    </tr>\n",
       "  </tbody>\n",
       "</table>\n",
       "</div>"
      ],
      "text/plain": [
       "     Salinity   Temp\n",
       "229    33.957   5.95\n",
       "235    34.180   4.89\n",
       "116    32.740  10.47\n",
       "26     33.800   5.12\n",
       "76     34.420   2.78"
      ]
     },
     "execution_count": 19,
     "metadata": {},
     "output_type": "execute_result"
    }
   ],
   "source": [
    "# 2.4 Take a sample\n",
    "df_train.sample(5)"
   ]
  },
  {
   "cell_type": "code",
   "execution_count": 21,
   "metadata": {},
   "outputs": [
    {
     "data": {
      "text/html": [
       "<div>\n",
       "<style scoped>\n",
       "    .dataframe tbody tr th:only-of-type {\n",
       "        vertical-align: middle;\n",
       "    }\n",
       "\n",
       "    .dataframe tbody tr th {\n",
       "        vertical-align: top;\n",
       "    }\n",
       "\n",
       "    .dataframe thead th {\n",
       "        text-align: right;\n",
       "    }\n",
       "</style>\n",
       "<table border=\"1\" class=\"dataframe\">\n",
       "  <thead>\n",
       "    <tr style=\"text-align: right;\">\n",
       "      <th></th>\n",
       "      <th>Salinity</th>\n",
       "      <th>Temp</th>\n",
       "    </tr>\n",
       "  </thead>\n",
       "  <tbody>\n",
       "    <tr>\n",
       "      <th>count</th>\n",
       "      <td>225.000000</td>\n",
       "      <td>225.000000</td>\n",
       "    </tr>\n",
       "    <tr>\n",
       "      <th>mean</th>\n",
       "      <td>33.605831</td>\n",
       "      <td>7.937244</td>\n",
       "    </tr>\n",
       "    <tr>\n",
       "      <th>std</th>\n",
       "      <td>0.559792</td>\n",
       "      <td>2.996976</td>\n",
       "    </tr>\n",
       "    <tr>\n",
       "      <th>min</th>\n",
       "      <td>32.630000</td>\n",
       "      <td>2.780000</td>\n",
       "    </tr>\n",
       "    <tr>\n",
       "      <th>25%</th>\n",
       "      <td>33.000000</td>\n",
       "      <td>5.020000</td>\n",
       "    </tr>\n",
       "    <tr>\n",
       "      <th>50%</th>\n",
       "      <td>33.800000</td>\n",
       "      <td>8.180000</td>\n",
       "    </tr>\n",
       "    <tr>\n",
       "      <th>75%</th>\n",
       "      <td>34.101000</td>\n",
       "      <td>10.470000</td>\n",
       "    </tr>\n",
       "    <tr>\n",
       "      <th>max</th>\n",
       "      <td>34.430000</td>\n",
       "      <td>12.660000</td>\n",
       "    </tr>\n",
       "  </tbody>\n",
       "</table>\n",
       "</div>"
      ],
      "text/plain": [
       "         Salinity        Temp\n",
       "count  225.000000  225.000000\n",
       "mean    33.605831    7.937244\n",
       "std      0.559792    2.996976\n",
       "min     32.630000    2.780000\n",
       "25%     33.000000    5.020000\n",
       "50%     33.800000    8.180000\n",
       "75%     34.101000   10.470000\n",
       "max     34.430000   12.660000"
      ]
     },
     "execution_count": 21,
     "metadata": {},
     "output_type": "execute_result"
    }
   ],
   "source": [
    "# 2.5 Describe the numerical and date variables\n",
    "df_train.describe()"
   ]
  },
  {
   "cell_type": "code",
   "execution_count": null,
   "metadata": {},
   "outputs": [],
   "source": [
    "# 2.6 Describe the categorical variables\n",
    "#value_counts sobre las variables categoricas\n",
    "#pasar a numeros cada una "
   ]
  },
  {
   "cell_type": "code",
   "execution_count": 25,
   "metadata": {},
   "outputs": [
    {
     "data": {
      "text/plain": [
       "array([[<AxesSubplot:title={'center':'Salinity'}>,\n",
       "        <AxesSubplot:title={'center':'Temp'}>]], dtype=object)"
      ]
     },
     "execution_count": 25,
     "metadata": {},
     "output_type": "execute_result"
    },
    {
     "data": {
      "image/png": "[encoded data removed]",
      "text/plain": [
       "<Figure size 576x288 with 2 Axes>"
      ]
     },
     "metadata": {
      "needs_background": "light"
     },
     "output_type": "display_data"
    }
   ],
   "source": [
    "# 2.7 Perform univariate analysis - histograms\n",
    "df_train.hist(figsize=(8,4),sharey=True,alpha=0.6)"
   ]
  },
  {
   "cell_type": "code",
   "execution_count": 29,
   "metadata": {},
   "outputs": [
    {
     "data": {
      "image/png": "[encoded data removed]",
      "text/plain": [
       "<Figure size 576x288 with 2 Axes>"
      ]
     },
     "metadata": {
      "needs_background": "light"
     },
     "output_type": "display_data"
    }
   ],
   "source": [
    "# 2.8 Perform univariate analysis - boxplots\n",
    "fig,axs = plt.subplots(1,2,figsize=(8,4))\n",
    "df_train[[\"Temp\"]].boxplot(ax=axs[0])\n",
    "df_train[[\"Salinity\"]].boxplot(ax=axs[1])\n",
    "plt.show()"
   ]
  },
  {
   "cell_type": "code",
   "execution_count": 32,
   "metadata": {},
   "outputs": [
    {
     "data": {
      "image/png": "[encoded data removed]",
      "text/plain": [
       "<Figure size 432x432 with 4 Axes>"
      ]
     },
     "metadata": {
      "needs_background": "light"
     },
     "output_type": "display_data"
    }
   ],
   "source": [
    "# 2.9 Perform bivariate analysis - scatter matrix\n",
    "pd.plotting.scatter_matrix(df_train,diagonal='kde',figsize=(6,6))\n",
    "plt.show()\n",
    "#abajo esta Salinity x Salinity y Temp x Temp: muestra la grafica asi porque como es 'kde' muestra la distribucion, en vez de la recta x"
   ]
  },
  {
   "cell_type": "code",
   "execution_count": null,
   "metadata": {},
   "outputs": [],
   "source": [
    "# 2.10 Perform correlation analysis - Pearson or Point Biserial\n",
    "# como tengo solo una varialble, no puedo hacer este analisis"
   ]
  },
  {
   "cell_type": "code",
   "execution_count": null,
   "metadata": {},
   "outputs": [],
   "source": [
    "# 2.11 Perform multivariate analysis - VIF\n",
    "# como tengo solo una varialble, no puedo hacer este analisis"
   ]
  },
  {
   "cell_type": "code",
   "execution_count": null,
   "metadata": {},
   "outputs": [],
   "source": [
    "# Step 3. Create and evaluate model - Define your approach and goals\n",
    "\n",
    "#Goal: Pronosticar la Salinity en base a la Temperatura (o al revez, no me acuerdo) utilizado modelos de training"
   ]
  },
  {
   "cell_type": "code",
   "execution_count": 38,
   "metadata": {},
   "outputs": [
    {
     "name": "stdout",
     "output_type": "stream",
     "text": [
      "score is  0.8454\n"
     ]
    }
   ],
   "source": [
    "# 3.1 Perform model fit - A\n",
    "#Modelo de sklearn:\n",
    "sklm = LinearRegression() #Crea el objeto \n",
    "sklm.fit(X_train.to_frame(),y_train)#Cuando es solamente una variable predictora, el sklearn interpreta a X_train como una lista, no como un dataframe, toma una lista \"acostada\" entonces tenemos que orientarlo usando to_fram() SOLO CUANDO ES UNA PREDICTORA, con y_train no es necesario hacerlo\n",
    "score = sklm.score(X_train.to_frame(),y_train)#score R^2 : proportion if the variance in DV explained by IV\n",
    "print(f'score is {score: .4f}') # score R^2 sobre el dataset de aprendizaje"
   ]
  },
  {
   "cell_type": "code",
   "execution_count": 39,
   "metadata": {},
   "outputs": [
    {
     "name": "stdout",
     "output_type": "stream",
     "text": [
      "The R2 score is: 0.7863151702808187\n",
      "The RMSE is: 1.316206920253402\n"
     ]
    }
   ],
   "source": [
    "predictions = sklm.predict(X_test.to_frame())\n",
    "print(f'The R2 score is: {r2_score(y_test,predictions)}')# score R^2 sobre el dataset de test\n",
    "print(f'The RMSE is: {mean_squared_error(y_test,predictions,squared=False)}') # estudiar que es"
   ]
  },
  {
   "cell_type": "code",
   "execution_count": 41,
   "metadata": {},
   "outputs": [
    {
     "data": {
      "image/png": "[encoded data removed]",
      "text/plain": [
       "<Figure size 432x288 with 1 Axes>"
      ]
     },
     "metadata": {
      "needs_background": "light"
     },
     "output_type": "display_data"
    }
   ],
   "source": [
    "#Vizualizar predicciones (Rojo) contra los valores reales (Blue )\n",
    "plt.scatter(x=X_test,y=y_test,color='Blue')\n",
    "plt.scatter(x=X_test,y=predictions,color='Red')\n",
    "plt.show()"
   ]
  },
  {
   "cell_type": "code",
   "execution_count": 44,
   "metadata": {},
   "outputs": [
    {
     "name": "stdout",
     "output_type": "stream",
     "text": [
      "                            OLS Regression Results                            \n",
      "==============================================================================\n",
      "Dep. Variable:                   Temp   R-squared:                       0.845\n",
      "Model:                            OLS   Adj. R-squared:                  0.845\n",
      "Method:                 Least Squares   F-statistic:                     1219.\n",
      "Date:                Wed, 06 Jul 2022   Prob (F-statistic):           2.31e-92\n",
      "Time:                        22:18:26   Log-Likelihood:                -355.70\n",
      "No. Observations:                 225   AIC:                             715.4\n",
      "Df Residuals:                     223   BIC:                             722.2\n",
      "Df Model:                           1                                         \n",
      "Covariance Type:            nonrobust                                         \n",
      "==============================================================================\n",
      "                 coef    std err          t      P>|t|      [0.025      0.975]\n",
      "------------------------------------------------------------------------------\n",
      "Intercept    173.3618      4.738     36.590      0.000     164.025     182.699\n",
      "Salinity      -4.9225      0.141    -34.919      0.000      -5.200      -4.645\n",
      "==============================================================================\n",
      "Omnibus:                        1.617   Durbin-Watson:                   2.093\n",
      "Prob(Omnibus):                  0.446   Jarque-Bera (JB):                1.319\n",
      "Skew:                           0.173   Prob(JB):                        0.517\n",
      "Kurtosis:                       3.147   Cond. No.                     2.02e+03\n",
      "==============================================================================\n",
      "\n",
      "Notes:\n",
      "[1] Standard Errors assume that the covariance matrix of the errors is correctly specified.\n",
      "[2] The condition number is large, 2.02e+03. This might indicate that there are\n",
      "strong multicollinearity or other numerical problems.\n"
     ]
    }
   ],
   "source": [
    "# 3.2 Perform model fit - B Es el mismo modelo pero usando smf\n",
    "results = smf.ols('Temp ~ Salinity', data=df_train).fit()\n",
    "print(results.summary())"
   ]
  },
  {
   "cell_type": "code",
   "execution_count": 46,
   "metadata": {},
   "outputs": [
    {
     "name": "stdout",
     "output_type": "stream",
     "text": [
      "score is R2 (based on the test dataset)  0.8454\n",
      "The R2 score  is : 0.7863151702808187\n",
      "The RMSE is: 1.316206920253402\n"
     ]
    }
   ],
   "source": [
    "# 3.3 Calculate metrics on model A\n",
    "#las calculamos arriba\n",
    "\n",
    "print(f'score is R2 (based on the test dataset) {score: .4f}') # score R^2 sobre el dataset de training\n",
    "print(f'The R2 score  is : {r2_score(y_test,predictions)}')# score R^2 sobre el dataset de testing\n",
    "print(f'The RMSE is: {mean_squared_error(y_test,predictions,squared=False)}') # estudiar que es"
   ]
  },
  {
   "cell_type": "code",
   "execution_count": 47,
   "metadata": {},
   "outputs": [
    {
     "name": "stdout",
     "output_type": "stream",
     "text": [
      "                            OLS Regression Results                            \n",
      "==============================================================================\n",
      "Dep. Variable:                   Temp   R-squared:                       0.845\n",
      "Model:                            OLS   Adj. R-squared:                  0.845\n",
      "Method:                 Least Squares   F-statistic:                     1219.\n",
      "Date:                Wed, 06 Jul 2022   Prob (F-statistic):           2.31e-92\n",
      "Time:                        22:30:16   Log-Likelihood:                -355.70\n",
      "No. Observations:                 225   AIC:                             715.4\n",
      "Df Residuals:                     223   BIC:                             722.2\n",
      "Df Model:                           1                                         \n",
      "Covariance Type:            nonrobust                                         \n",
      "==============================================================================\n",
      "                 coef    std err          t      P>|t|      [0.025      0.975]\n",
      "------------------------------------------------------------------------------\n",
      "Intercept    173.3618      4.738     36.590      0.000     164.025     182.699\n",
      "Salinity      -4.9225      0.141    -34.919      0.000      -5.200      -4.645\n",
      "==============================================================================\n",
      "Omnibus:                        1.617   Durbin-Watson:                   2.093\n",
      "Prob(Omnibus):                  0.446   Jarque-Bera (JB):                1.319\n",
      "Skew:                           0.173   Prob(JB):                        0.517\n",
      "Kurtosis:                       3.147   Cond. No.                     2.02e+03\n",
      "==============================================================================\n",
      "\n",
      "Notes:\n",
      "[1] Standard Errors assume that the covariance matrix of the errors is correctly specified.\n",
      "[2] The condition number is large, 2.02e+03. This might indicate that there are\n",
      "strong multicollinearity or other numerical problems.\n"
     ]
    }
   ],
   "source": [
    "# 3.4 Calculate metrics on model B\n",
    "#las calculamos arriba\n",
    "print(results.summary())"
   ]
  },
  {
   "cell_type": "code",
   "execution_count": null,
   "metadata": {},
   "outputs": [],
   "source": [
    "# Step 4. Write up your conclusions"
   ]
  }
 ],
 "metadata": {
  "kernelspec": {
   "display_name": "Python 3.8.13 64-bit ('3.8.13')",
   "language": "python",
   "name": "python3"
  },
  "language_info": {
   "codemirror_mode": {
    "name": "ipython",
    "version": 3
   },
   "file_extension": ".py",
   "mimetype": "text/x-python",
   "name": "python",
   "nbconvert_exporter": "python",
   "pygments_lexer": "ipython3",
   "version": "3.8.13"
  },
  "orig_nbformat": 4,
  "vscode": {
   "interpreter": {
    "hash": "110cc1dee26208153f2972f08a2ad52b6a56238dc66d48e87fb757ef2996db56"
   }
  }
 },
 "nbformat": 4,
 "nbformat_minor": 2
}
